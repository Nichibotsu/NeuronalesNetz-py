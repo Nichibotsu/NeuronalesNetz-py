{
 "cells": [
  {
   "cell_type": "markdown",
   "id": "18b52eb4-9590-48ef-b7b5-a4537fbe56c7",
   "metadata": {},
   "source": [
    "# Kurze Theorie"
   ]
  },
  {
   "cell_type": "markdown",
   "id": "6d93dcfb-5dae-4f55-a14c-4494c4a0188e",
   "metadata": {},
   "source": [
    "<img src=\"Bilder/Slide1.jpg\" alt=\"image\">"
   ]
  },
  {
   "cell_type": "markdown",
   "id": "893ca7dd-17d2-40f1-a338-df2b5994be90",
   "metadata": {},
   "source": [
    "## Beispiel"
   ]
  },
  {
   "cell_type": "markdown",
   "id": "a33300f8-1eff-4b2a-be88-c570d0c7894b",
   "metadata": {},
   "source": [
    "<img src=\"Bilder/Slide2.jpg\" alt=\"image\" width=\"50%\">"
   ]
  },
  {
   "cell_type": "markdown",
   "id": "cd1318c1-d13a-47a5-b449-337fadce4a9e",
   "metadata": {
    "jp-MarkdownHeadingCollapsed": true
   },
   "source": [
    "# Main"
   ]
  },
  {
   "cell_type": "code",
   "execution_count": 1,
   "id": "035f6c18-6b03-4889-9002-d96cb747af17",
   "metadata": {},
   "outputs": [
    {
     "name": "stdout",
     "output_type": "stream",
     "text": [
      "20\n"
     ]
    }
   ],
   "source": [
    "from NN.NeuronalesNetz import neuronalesNetz\n",
    "\n",
    "\n",
    "if __name__ == '__main__':\n",
    "    #Initialisiere ein neuronales Netzwerk\n",
    "    nn=neuronalesNetz()\n",
    "\n",
    "    #Erstelle Input-Neuronen\n",
    "    i1=nn.createInputNeuron()\n",
    "    i2=nn.createInputNeuron()\n",
    "\n",
    "    \"\"\"\n",
    "    Erstelle versteckte Neuronen\n",
    "    :param Neuronenanzahl pro Layer\n",
    "    :param Anzahl der Layer \n",
    "    Default: Layer = 1\n",
    "    \"\"\"\n",
    "    nn.createHiddenNeuron(2,2)\n",
    "    #Erstellt ein Output-Neuron\n",
    "    o1 = nn.createOutputNeuron()\n",
    "\n",
    "    #Setze Werte für die Input-Neuronen\n",
    "    i1.set_Value(2)\n",
    "    i2.set_Value(3)\n",
    "\n",
    "    #Erstelle eine vollständige Verbindung zwischen allen Neuronen\n",
    "    nn.createFullMesh([1,1,1,1,1,1,1,1,1,1])\n",
    "\n",
    "    #Druckt den Wert des Output-Neurons nach der Berechnung\n",
    "    print(o1.get_Value())\n",
    "\n"
   ]
  },
  {
   "cell_type": "markdown",
   "id": "24c20d30-2638-4d87-8de8-a667f6e8e214",
   "metadata": {
    "jp-MarkdownHeadingCollapsed": true
   },
   "source": [
    "# Klassen / Bauteile"
   ]
  },
  {
   "cell_type": "markdown",
   "id": "757a5983-3deb-4e12-b4db-e12136e456bb",
   "metadata": {},
   "source": [
    "## Aktivierungsfunktionen"
   ]
  },
  {
   "cell_type": "code",
   "execution_count": 15,
   "id": "eb0e912f-9ff0-423a-a01b-149606c2fa31",
   "metadata": {},
   "outputs": [],
   "source": [
    "import numpy as np"
   ]
  },
  {
   "cell_type": "markdown",
   "id": "d801eac5-df15-4b5f-8429-758b8fd00483",
   "metadata": {},
   "source": [
    "### sigmoid(value) -> float"
   ]
  },
  {
   "attachments": {},
   "cell_type": "markdown",
   "id": "715694a2-345e-44b1-931f-1cd63daa489a",
   "metadata": {},
   "source": [
    "Berechnet die Sigmoid-Aktivierungsfunktion für einen gegebenen Wert.\n",
    "\n",
    "<figure>\n",
    "\n",
    "<img src=\"Bilder/Sigmoid-function-2.svg.png\" alt=\"image\" width=\"50%\">\n",
    "<figcaption> https://upload.wikimedia.org/wikipedia/commons/thumb/5/53/Sigmoid-function-2.svg/1920px-Sigmoid-function-2.svg.png</figcaption>\n",
    "</figure>\n",
    "\n",
    "\n",
    "**Parameter:**\n",
    "- `value`: Der Eingabewert für die Sigmoid-Funktion.\n",
    "\n",
    "**Rückgabe:**\n",
    "Der berechnete Sigmoid-Wert."
   ]
  },
  {
   "cell_type": "code",
   "execution_count": 16,
   "id": "372f0537-f213-42b8-99b3-376815e6a066",
   "metadata": {},
   "outputs": [],
   "source": [
    "def sigmoid(value) -> float:\n",
    "    sig = 1 / (1 + np.exp(-value))\n",
    "    return sig\n"
   ]
  },
  {
   "cell_type": "markdown",
   "id": "6730e94a-2eb6-4f40-975d-9e85e955d802",
   "metadata": {},
   "source": [
    "### ReLu(value) -> float\n"
   ]
  },
  {
   "attachments": {},
   "cell_type": "markdown",
   "id": "4d6af1ab-782a-4f68-b96c-1d61684eeb45",
   "metadata": {},
   "source": [
    "\n",
    "Berechnet die Rectified Linear Unit (ReLU)-Aktivierungsfunktion für einen gegebenen Wert.\n",
    "<figure>\n",
    "<img src=\"Bilder/220px-Activation_rectified_linear.svg.png\" alt=\"image\" width=\"45%\">\n",
    "    <figcaption>https://upload.wikimedia.org/wikipedia/commons/thumb/f/fe/Activation_rectified_linear.svg/220px-Activation_rectified_linear.svg.png</figcaption>\n",
    "</figure>\n",
    "\n",
    "**Parameter:**\n",
    "- `value`: Der Eingabewert für die ReLU-Funktion.\n",
    "\n",
    "**Rückgabe:**\n",
    "Der berechnete ReLU-Wert."
   ]
  },
  {
   "cell_type": "code",
   "execution_count": 18,
   "id": "181e9706-f275-42ae-a850-6914708cd967",
   "metadata": {},
   "outputs": [],
   "source": [
    "def ReLu(value) -> float:\n",
    "    return value if value > 0 else 0"
   ]
  },
  {
   "cell_type": "markdown",
   "id": "986fa8bd-c774-4245-868a-0433f0e499a2",
   "metadata": {},
   "source": [
    "### Tanh(value) -> float"
   ]
  },
  {
   "attachments": {},
   "cell_type": "markdown",
   "id": "5ee7647a-1741-434b-bef1-48bfdaa8ba9a",
   "metadata": {},
   "source": [
    "Berechnet die Tangens hyperbolicus (Tanh)-Aktivierungsfunktion für einen gegebenen Wert.\n",
    "<figure>\n",
    "<img src=\"Bilder/2560px-Hyperbolic_Tangent.svg.png\" alt=\"image\" width=\"50%\">\n",
    "    <figcaption>https://upload.wikimedia.org/wikipedia/commons/thumb/8/87/Hyperbolic_Tangent.svg/2560px-Hyperbolic_Tangent.svg.png</figcaption>\n",
    "</figure>\r\n",
    "\n",
    "\n",
    "**Parameter:**\n",
    "- `value`: Der Eingabewert für die Tanh-Funktion.\n",
    "\n",
    "**Rückgabe:**\n",
    "Der berechnete Tanh-Wert."
   ]
  },
  {
   "cell_type": "code",
   "execution_count": 19,
   "id": "ce89318f-04a0-4feb-a8ff-ab63e13112ab",
   "metadata": {},
   "outputs": [],
   "source": [
    "def Tanh(value) -> float:\n",
    "    tanh = 1 - (2 / (1 + np.exp(2 * value)))\n",
    "    return tanh"
   ]
  },
  {
   "cell_type": "markdown",
   "id": "84f093bc-3278-4fea-acef-432c5caaad04",
   "metadata": {},
   "source": [
    "## Neuronen"
   ]
  },
  {
   "cell_type": "markdown",
   "id": "abced294-6740-41be-b689-ce4f24e2284d",
   "metadata": {},
   "source": [
    "<p>Eine abstrakte Basisklasse für Neuronen in einem neuronalen Netzwerk.</p>\n",
    "\n",
    "<p>Alle Unterklassen müssen die Methode <code>get_Value</code> implementieren.</p>\n",
    "\n",
    "<p><strong>Methode:</strong></p>\n",
    "<p><code>get_Value</code>: Eine abstrakte Methode, die den Wert des Neurons zurückgeben soll.</p>"
   ]
  },
  {
   "cell_type": "code",
   "execution_count": 11,
   "id": "499b7374-03a2-4dc2-aee5-3a687ba4752d",
   "metadata": {},
   "outputs": [],
   "source": [
    "class neuron:\n",
    "    \n",
    "    def get_Value(self) -> float:\n",
    "        pass"
   ]
  },
  {
   "cell_type": "markdown",
   "id": "5b5feb85-fe9b-4866-9ff5-bb388c0b1559",
   "metadata": {
    "jp-MarkdownHeadingCollapsed": true
   },
   "source": [
    "### InputNeuron"
   ]
  },
  {
   "cell_type": "markdown",
   "id": "645b54d4-fca5-4e6e-9da4-953b89d357a3",
   "metadata": {},
   "source": [
    "#### __init__ (self):"
   ]
  },
  {
   "cell_type": "markdown",
   "id": "b399f29f-95c9-4ea1-b12c-740fa3142fd4",
   "metadata": {},
   "source": [
    "**Initialisierung:**\n",
    "Ein Input-Neuron wird mit einem Wert von 0 initialisiert."
   ]
  },
  {
   "cell_type": "code",
   "execution_count": 3,
   "id": "b7384dd5-b7bf-47c7-a07b-9722e4a9c562",
   "metadata": {},
   "outputs": [],
   "source": [
    "def __init__(self):\n",
    "        self.value = 0"
   ]
  },
  {
   "cell_type": "markdown",
   "id": "4a77ef77-0e9c-416a-a7fc-c052e303cf3d",
   "metadata": {},
   "source": [
    "#### get_value(self)-> float:"
   ]
  },
  {
   "cell_type": "markdown",
   "id": "35b60706-0924-4d17-8b4d-79feb0b4c419",
   "metadata": {},
   "source": [
    "  Gibt den aktuellen Wert des Input-Neurons zurück.\n",
    "\n",
    "  **Rückgabe:**\n",
    "  Der aktuelle Wert des Input-Neurons."
   ]
  },
  {
   "cell_type": "code",
   "execution_count": null,
   "id": "1f9da262-d2d0-4c5e-8f37-6540bbae74b1",
   "metadata": {},
   "outputs": [],
   "source": [
    "def get_Value(self) -> float:\n",
    "        return self.value"
   ]
  },
  {
   "cell_type": "markdown",
   "id": "54c1e286-eaa0-4bb0-bbb0-df8b055b2145",
   "metadata": {},
   "source": [
    "#### set_value(value) -> None:"
   ]
  },
  {
   "cell_type": "markdown",
   "id": "87e4336f-e4f8-4721-9630-5d3c368a4db9",
   "metadata": {},
   "source": [
    "  Setzt den Wert des Input-Neurons auf den angegebenen Wert.\n",
    "\n",
    "  **Parameter:**\n",
    "  - **value:** Der Wert, auf den das Input-Neuron gesetzt werden soll."
   ]
  },
  {
   "cell_type": "code",
   "execution_count": null,
   "id": "e8ac3d92-652d-4cee-b1eb-0a4a08219a0d",
   "metadata": {},
   "outputs": [],
   "source": [
    "def set_Value(self, value) -> None:\n",
    "        self.value = value\n",
    "        return None"
   ]
  },
  {
   "cell_type": "markdown",
   "id": "6bc65ee3-1fa0-464f-af37-c89374ccfd11",
   "metadata": {
    "jp-MarkdownHeadingCollapsed": true
   },
   "source": [
    "#### Kompletter Code"
   ]
  },
  {
   "cell_type": "code",
   "execution_count": 12,
   "id": "111d0fea-32e1-4f47-add0-28ae5b501930",
   "metadata": {},
   "outputs": [],
   "source": [
    "from NN.Neuron import neuron\n",
    "\n",
    "\n",
    "class inputneuron(neuron):\n",
    "    \"\"\"\n",
    "        Klasse für ein Input-Neuron in einem neuronalen Netzwerk.\n",
    "\n",
    "        Vererbung: Die Klasse erbt von der allgemeinen Neuron-Klasse.\n",
    "\n",
    "        :ivar value: Der aktuelle Wert des Input-Neurons.\n",
    "    \"\"\"\n",
    "    def __init__(self):\n",
    "        \"\"\"\n",
    "            Initialisiert ein Input-Neuron mit einem Wert von 0.\n",
    "        \"\"\"\n",
    "        self.value = 0\n",
    "\n",
    "    def get_Value(self) -> float:\n",
    "        \"\"\"\n",
    "            Gibt den aktuellen Wert des Input-Neurons zurück.\n",
    "\n",
    "            :return: Der aktuelle Wert des Input-Neurons.\n",
    "        \"\"\"\n",
    "        return self.value\n",
    "\n",
    "    def set_Value(self, value) -> None:\n",
    "        \"\"\"\n",
    "            Setzt den Wert des Input-Neurons auf den angegebenen Wert.\n",
    "            :param value: Der Wert, auf den das Input-Neuron gesetzt werden soll.\n",
    "        \"\"\"\n",
    "        self.value = value\n",
    "        return None\n"
   ]
  },
  {
   "cell_type": "markdown",
   "id": "301fb2bc-c963-4f75-9396-98580be7c352",
   "metadata": {
    "jp-MarkdownHeadingCollapsed": true
   },
   "source": [
    "### HiddenNeuron"
   ]
  },
  {
   "cell_type": "markdown",
   "id": "fc5659d5-fb47-4a24-a061-0466dc9b64b3",
   "metadata": {},
   "source": [
    "#### __init__ (self):"
   ]
  },
  {
   "cell_type": "markdown",
   "id": "8aaf84ba-3629-4bcb-a515-e10a985bface",
   "metadata": {},
   "source": [
    "**Initialisierung:**\n",
    "Ein verstecktes Neuron wird mit einer leeren Liste von Verbindungen und einem Wert von 0 initialisiert."
   ]
  },
  {
   "cell_type": "code",
   "execution_count": null,
   "id": "19eb3077-9eb4-41d8-be73-1211540a50dd",
   "metadata": {},
   "outputs": [],
   "source": [
    "def __init__(self):\n",
    "        self.Connections: list[Connection] = []\n",
    "        self.value: float = 0"
   ]
  },
  {
   "cell_type": "markdown",
   "id": "125df649-ee0b-4b5d-b647-213239faeb2c",
   "metadata": {},
   "source": [
    "#### get_Value(self)-> float:\n"
   ]
  },
  {
   "cell_type": "markdown",
   "id": "85b11bca-0f55-4c05-8cce-0308edbf3b13",
   "metadata": {},
   "source": [
    "  Berechnet den Wert des Neurons nach der Aktivierungsfunktion (hier ReLU).\n",
    "\n",
    "  **Rückgabe:**\n",
    "  Der aktuelle Wert des Neurons nach der Aktivierungsfunktion."
   ]
  },
  {
   "cell_type": "code",
   "execution_count": null,
   "id": "65d34a90-cc86-4225-b24e-e1a09a7519fb",
   "metadata": {},
   "outputs": [],
   "source": [
    "def get_Value(self) -> float:\n",
    "        value_sum = 0\n",
    "        for c in self.Connections:\n",
    "            value_sum += c.getValue()\n",
    "\n",
    "        self.value = ReLu(value_sum)\n",
    "        return self.value"
   ]
  },
  {
   "cell_type": "markdown",
   "id": "3fb6ad58-00c1-40a7-80e0-53f53c9c1182",
   "metadata": {},
   "source": [
    "#### addConnection(self, c: Connection)->None"
   ]
  },
  {
   "cell_type": "markdown",
   "id": "2da83437-e0b5-4009-843e-a4973755adfc",
   "metadata": {},
   "source": [
    "  Fügt eine Verbindung zu anderen Neuronen hinzu.\n",
    "\n",
    "  **Parameter:**\n",
    "  - **c:** Die hinzuzufügende Verbindung."
   ]
  },
  {
   "cell_type": "code",
   "execution_count": null,
   "id": "3e564cf5-2dbc-4849-8a48-9472e9820ebe",
   "metadata": {},
   "outputs": [],
   "source": [
    "def addConnection(self, c: Connection) -> None:\n",
    "        self.Connections.append(c)\n",
    "        return None"
   ]
  },
  {
   "cell_type": "markdown",
   "id": "cd18ba14-3ecc-4d06-8943-b24ed3a1b4d4",
   "metadata": {
    "jp-MarkdownHeadingCollapsed": true
   },
   "source": [
    "#### kompletter Code"
   ]
  },
  {
   "cell_type": "code",
   "execution_count": 13,
   "id": "edab92b9-5c77-4d7b-953a-d071f183c8c0",
   "metadata": {},
   "outputs": [],
   "source": [
    "from NN.Neuron import neuron\n",
    "from NN.Connections import Connection\n",
    "from NN.Aktivierung import *\n",
    "\n",
    "\n",
    "class hiddenneuron(neuron):\n",
    "    \"\"\"\n",
    "        Klasse für ein verstecktes Neuron in einem neuronalen Netzwerk.\n",
    "\n",
    "        Vererbung: Die Klasse erbt von der allgemeinen Neuron-Klasse.\n",
    "\n",
    "        :ivar Connections: Eine Liste von Verbindungen zu anderen Neuronen.\n",
    "        :ivar value: Der aktuelle Wert des Neurons nach der Aktivierungsfunktion.\n",
    "    \"\"\"\n",
    "\n",
    "    def __init__(self):\n",
    "        \"\"\"\n",
    "            Initialisiert ein verstecktes Neuron mit einer leeren Liste von Verbindungen und einem Wert von 0.\n",
    "        \"\"\"\n",
    "        self.Connections: list[Connection] = []\n",
    "        self.value: float = 0\n",
    "\n",
    "    def get_Value(self) -> float:\n",
    "        \"\"\"\n",
    "            Berechnet den Wert des Neurons nach der Aktivierungsfunktion (hier ReLU).\n",
    "\n",
    "            :return: Der aktuelle Wert des Neurons.\n",
    "        \"\"\"\n",
    "        value_sum = 0\n",
    "        for c in self.Connections:\n",
    "            value_sum += c.getValue()\n",
    "\n",
    "        self.value = ReLu(value_sum)\n",
    "        return self.value\n",
    "\n",
    "    def addConnection(self, c: Connection) -> None:\n",
    "        \"\"\"\n",
    "            Fügt eine Verbindung zu anderen Neuronen hinzu.\n",
    "\n",
    "            :param c: Die hinzuzufügende Verbindung.\n",
    "        \"\"\"\n",
    "        self.Connections.append(c)\n",
    "        return None\n"
   ]
  },
  {
   "cell_type": "markdown",
   "id": "b3cdfbf4-1290-49bd-85e6-688e15351ccf",
   "metadata": {
    "jp-MarkdownHeadingCollapsed": true
   },
   "source": [
    "## Connections"
   ]
  },
  {
   "cell_type": "markdown",
   "id": "1d8127d4-96a8-46e6-8d3c-bd9c68ea1736",
   "metadata": {},
   "source": [
    "<p>Eine Verbindung zwischen zwei Neuronen mit einem bestimmten Gewicht.</p>\n",
    "\n",
    "<h3>__init__(self,neuron1: \"neuron\", gewicht: float)</h3>\n",
    "<p>Initialisiert eine Verbindung mit einem Neuron und einem Gewicht.</p>\n",
    "\n",
    "<p><strong>Parameter:</strong></p>\n",
    "    \n",
    "<ul>\n",
    "        <li><code>neuron1</code>: Das verknüpfte Neuron.</li>\n",
    "        <li><code>gewicht</code>: Das Gewicht der Verbindung.</li>\n",
    "    </ul>\n",
    "\n",
    "<h3> getValue(self)->float</h3>\n",
    "<p>Berechnet den Wert der Verbindung, indem der Wert des verknüpften Neurons mit dem Gewicht multipliziert wird.</p>\r\n",
    "  <p><strong>Rückgabe:</strong></p   <p>Der berechnete Wert der Verbindung.</p>"
   ]
  },
  {
   "cell_type": "code",
   "execution_count": 14,
   "id": "1b7f1f1d-2a79-405a-a6e1-33d728b9ed73",
   "metadata": {},
   "outputs": [],
   "source": [
    "from NN.Neuron import neuron\n",
    "\n",
    "\n",
    "class Connection:\n",
    "\n",
    "    def __init__(self, neuron1: \"neuron\", gewicht: float):\n",
    "        self.gewicht = gewicht\n",
    "        self.neuron = neuron1\n",
    "\n",
    "    def getValue(self) -> float:\n",
    "        return self.neuron.get_Value() * self.gewicht\n"
   ]
  },
  {
   "cell_type": "markdown",
   "id": "99e88e41-7dcc-4469-9361-dccf0afea0cc",
   "metadata": {
    "jp-MarkdownHeadingCollapsed": true
   },
   "source": [
    "# Neuronales Netz"
   ]
  },
  {
   "cell_type": "markdown",
   "id": "04be5389-5093-482e-9266-cca0a532b250",
   "metadata": {},
   "source": [
    "## Methoden und Variablen"
   ]
  },
  {
   "cell_type": "markdown",
   "id": "9a7d0290-a6b0-45b0-b4f5-fceaf4a58cb5",
   "metadata": {
    "jp-MarkdownHeadingCollapsed": true
   },
   "source": [
    "### Variablen der Klasse"
   ]
  },
  {
   "cell_type": "markdown",
   "id": "54a0b3bc-ab8e-469b-9110-bc342c8c5cfd",
   "metadata": {},
   "source": [
    "\n",
    "<p>Repräsentiert eine Klasse, die ein neuronales Netzwerk darstellt.</p>\n",
    "\n",
    "<p><strong>Attribute:</strong></p>\n",
    "<ul>\n",
    "    <li><code>inputNeuronen</code>: Eine Liste von Input-Neuronen.</li>\n",
    "    <li><code>hiddenneuronen</code>: Eine Liste von Listen, die die versteckten Neuronen für jede Schicht enthält.</li>\n",
    "    <li><code>outputneuronen</code>: Eine Liste von Output-Neuronen.</li>\n",
    "    <li><code>gewichtzahl</code>: Die Gesamtanzahl der Gewichte im Netzwerk.</li>\n",
    "</ul>\n"
   ]
  },
  {
   "cell_type": "code",
   "execution_count": 3,
   "id": "1e35c84e-409b-49e4-a3f5-c9bfcb00eebf",
   "metadata": {},
   "outputs": [],
   "source": [
    "from NN.HiddenNeuron import hiddenneuron\n",
    "from NN.InputNeuron import inputneuron\n",
    "from NN.Connections import Connection\n",
    "    \n",
    "inputNeuronen: list[inputneuron] = []\n",
    "hiddenneuronen: list[list[hiddenneuron]] = []\n",
    "outputneuronen: list[hiddenneuron] = []\n",
    "gewichtzahl: int"
   ]
  },
  {
   "cell_type": "markdown",
   "id": "4e30dbc5-fc27-475b-b05e-1d1cb3097d12",
   "metadata": {
    "jp-MarkdownHeadingCollapsed": true
   },
   "source": [
    "### createInputNeuron(self)->\"inputneuron\""
   ]
  },
  {
   "cell_type": "markdown",
   "id": "28d811c4-1701-4bae-9774-9092f298204c",
   "metadata": {},
   "source": [
    "\n",
    "<p>Erstellt ein Input-Neuron und fügt es zur Liste der Input-Neuronen hinzu.</p>\n",
    "\n",
    "<p><strong>Rückgabe:</strong></p>\n",
    "<p>Das erstellte Input-Neuron.</p>\n"
   ]
  },
  {
   "cell_type": "code",
   "execution_count": 4,
   "id": "77e4b7fa-f5e9-49b1-8cd6-a8f5f87a887d",
   "metadata": {},
   "outputs": [],
   "source": [
    "def createInputNeuron(self) -> \"inputneuron\":\n",
    "        i1 = inputneuron()\n",
    "        self.inputNeuronen.append(i1)\n",
    "        return i1"
   ]
  },
  {
   "cell_type": "markdown",
   "id": "0039d81a-888e-44f5-a91b-54433f6f0357",
   "metadata": {
    "jp-MarkdownHeadingCollapsed": true
   },
   "source": [
    "### createOutputNeuron(self)->\"hiddenneuron\""
   ]
  },
  {
   "cell_type": "markdown",
   "id": "e3055278-f3cf-46e6-b3f9-c8562e6992b3",
   "metadata": {},
   "source": [
    "\n",
    "<p>Erstellt ein Output-Neuron und fügt es zur Liste der Output-Neuronen hinzu.</p>\n",
    "\n",
    "<p><strong>Rückgabe:</strong></p>\n",
    "<p>Das erstellte Output-Neuron.</p>\n",
    "\n"
   ]
  },
  {
   "cell_type": "code",
   "execution_count": 5,
   "id": "a6e4f585-7fe7-4f35-a8eb-c7909107e143",
   "metadata": {},
   "outputs": [],
   "source": [
    "def createOutputNeuron(self) -> \"hiddenneuron\":\n",
    "        o1 = hiddenneuron()\n",
    "        self.outputneuronen.append(o1)\n",
    "        return o1"
   ]
  },
  {
   "cell_type": "markdown",
   "id": "593fbf88-52a6-4fd5-8613-6cdda7ffc051",
   "metadata": {
    "jp-MarkdownHeadingCollapsed": true
   },
   "source": [
    "### createHiddenNeuron(self,Neuronenanzahl:int, layer:int = 1)-> None"
   ]
  },
  {
   "cell_type": "markdown",
   "id": "f7403ad5-1eec-4962-9cd3-45cd7c5b9033",
   "metadata": {},
   "source": [
    "\n",
    "<p>Erstellt eine Schicht von versteckten Neuronen und fügt sie zur Liste der versteckten Neuronen hinzu.</p>\n",
    "\n",
    "<p><strong>Parameter:</strong></p>\n",
    "<ul>\n",
    "    <li><code>Neuronenanzahl</code>: Die Anzahl der versteckten Neuronen in der Schicht.</li>\n",
    "    <li><code>layer</code>: Die Schichtanzahl. Standardmäßig ist die Schichtanzahl gleich 1 (<code>layer=1</code>).</li>\n",
    "</ul>\n",
    "\n"
   ]
  },
  {
   "cell_type": "code",
   "execution_count": 6,
   "id": "33c1f339-8c30-42ca-926f-0327c8c7a90e",
   "metadata": {},
   "outputs": [],
   "source": [
    "    def createHiddenNeuron(self, Neuronenanzahl: int, layer: int = 1) -> None:\n",
    "        \n",
    "        for i in range(layer):\n",
    "            x: list[hiddenneuron] = []\n",
    "\n",
    "            for n in range(Neuronenanzahl):\n",
    "                h1 = hiddenneuron()\n",
    "                x.append(h1)\n",
    "\n",
    "            self.hiddenneuronen.append(x)\n",
    "        return None"
   ]
  },
  {
   "cell_type": "markdown",
   "id": "70c2f8b0-406e-4c7d-8f94-31079c5cdf40",
   "metadata": {
    "jp-MarkdownHeadingCollapsed": true
   },
   "source": [
    "### calcGewichtAnzahl(self)->int"
   ]
  },
  {
   "cell_type": "markdown",
   "id": "ffc9c50c-95ef-46be-a49d-71066ebbd005",
   "metadata": {},
   "source": [
    "<p>Berechnet die Gesamtanzahl der Gewichte im neuronalen Netzwerk.</p>\n",
    "\n",
    "<p><strong>Rückgabe:</strong></p>\n",
    "<p>Die Gesamtanzahl der Gewichte im Netzwerk.</p>\n",
    "<li>Berechung: Layer[0]*Layer[1]+Layer[1]*Layer[2] ... +Layer[n-1]*Layer[n]</li>"
   ]
  },
  {
   "cell_type": "code",
   "execution_count": 7,
   "id": "64edf9b5-e556-43aa-a6bc-3c95d65a309a",
   "metadata": {},
   "outputs": [],
   "source": [
    "    def calcGewichtAnzahl(self) -> int:\n",
    "        calcgewichte = 0\n",
    "        gsize = [len(self.inputNeuronen)]\n",
    "\n",
    "        for c in self.hiddenneuronen:\n",
    "            gsize.append(len(c))\n",
    "        gsize.append(len(self.outputneuronen))\n",
    "\n",
    "        for i in range(len(gsize)):\n",
    "            if i+1 == len(gsize):\n",
    "                break\n",
    "            calcgewichte += gsize[i]*gsize[i+1]\n",
    "\n",
    "        self.gewichtzahl = calcgewichte\n",
    "        return self.gewichtzahl"
   ]
  },
  {
   "cell_type": "markdown",
   "id": "23ffb0c8-76fa-4bbc-81c6-a642c9ef8fba",
   "metadata": {
    "jp-MarkdownHeadingCollapsed": true
   },
   "source": [
    "### createFullMesh(self, gewichte: list[float]) -> None"
   ]
  },
  {
   "cell_type": "markdown",
   "id": "0f983602-29ad-4680-a3c5-b7d188c1c723",
   "metadata": {},
   "source": [
    "<p>Erstellt ein vollständiges Netzwerk mit den gegebenen Gewichten.</p>\n",
    "\n",
    "<p><strong>Parameter:</strong></p>\n",
    "<ul>\n",
    "    <li><code>gewichte</code>: Eine Liste von Gewichten für alle Verbindungen im Netzwerk.</li>\n",
    "</ul>"
   ]
  },
  {
   "cell_type": "code",
   "execution_count": 8,
   "id": "7fbe468c-7557-4655-a1ce-47ef52cede3b",
   "metadata": {},
   "outputs": [],
   "source": [
    "    def createFullMesh(self, gewichte: list[float]) -> None:\n",
    "\n",
    "        if len(self.inputNeuronen) == 0 or len(self.hiddenneuronen) == 0 or len(self.outputneuronen) == 0:\n",
    "            raise NotImplemented(\"Das Netzwerk ist nicht vollständig initialisiert.\")\n",
    "\n",
    "        if self.calcGewichtAnzahl() != len(gewichte):\n",
    "            raise NotImplemented(\"Die Anzahl der Gewichte stimmt nicht mit der erwarteten Anzahl überein.\")\n",
    "\n",
    "\n",
    "        index = 0\n",
    "        for o1 in self.outputneuronen:\n",
    "            for hlast in self.hiddenneuronen[len(self.hiddenneuronen)-1]:\n",
    "                o1.addConnection(Connection(hlast, gewichte[index]))\n",
    "                index += 1\n",
    "\n",
    "        if len(self.hiddenneuronen)>1:\n",
    "            index = self.verkettungHiddens(gewichte, index, len(self.hiddenneuronen)-1, len(self.hiddenneuronen)-2)\n",
    "\n",
    "        for h1 in self.hiddenneuronen[0]:\n",
    "            for i1 in self.inputNeuronen:\n",
    "                h1.addConnection(Connection(i1, gewichte[index]))\n",
    "                index += 1\n"
   ]
  },
  {
   "cell_type": "markdown",
   "id": "ff2a91f5-5169-40db-8984-ee65fdb9ddcb",
   "metadata": {},
   "source": [
    "#### verkettungsHiddens(self, gewichte: list[float], index: int, index1: int, index: int) -> int"
   ]
  },
  {
   "cell_type": "markdown",
   "id": "3bfade7d-fcc9-40ec-b372-2e055be0bf32",
   "metadata": {},
   "source": [
    "<p>Verkettet die versteckten Neuronen in den Schichten.</p>\n",
    "\n",
    "<p><strong>Parameter:</strong></p>\n",
    "<ul>\n",
    "    <li><code>gewichte</code>: Eine Liste von Gewichten für alle Verbindungen im Netzwerk.</li>\n",
    "    <li><code>index</code>: Der aktuelle Index in der Liste der Gewichte.</li>\n",
    "    <li><code>index1</code>: Der Index der ersten Schicht von Neuronen.</li>\n",
    "    <li><code>index2</code>: Der Index der zweiten Schicht von Neuronen.</li>\n",
    "</ul>\n",
    "\n",
    "<p><strong>Rückgabe:</strong></p>\n",
    "<p>Der aktualisierte Index in der Liste der Gewichte.</p>"
   ]
  },
  {
   "cell_type": "code",
   "execution_count": 9,
   "id": "27e73c60-a366-4bc0-a9fa-e5355995f426",
   "metadata": {},
   "outputs": [],
   "source": [
    "    def verkettungHiddens(self, gewichte: list[float], index: int, index1: int, index2: int) -> int:\n",
    "        if index1 == 0:\n",
    "            return index\n",
    "\n",
    "        for h2 in self.hiddenneuronen[index1]:\n",
    "            for h1 in self.hiddenneuronen[index2]:\n",
    "                h2.addConnection(Connection(h1, gewichte[index]))\n",
    "                index += 1\n",
    "\n",
    "        return self.verkettungHiddens(gewichte, index, index1-1, index2-1)"
   ]
  },
  {
   "cell_type": "markdown",
   "id": "1f8046f9-b36c-407f-b2c4-4253cf125665",
   "metadata": {},
   "source": [
    "## kompletter SourceCode"
   ]
  },
  {
   "cell_type": "code",
   "execution_count": 10,
   "id": "f6d6e17f-7d8b-4066-a99a-81bb2bb146f9",
   "metadata": {},
   "outputs": [],
   "source": [
    "from NN.HiddenNeuron import hiddenneuron\n",
    "from NN.InputNeuron import inputneuron\n",
    "from NN.Connections import Connection\n",
    "\n",
    "\n",
    "class neuronalesNetz:\n",
    "    \"\"\"\n",
    "        Eine Klasse, die ein neuronales Netzwerk repräsentiert.\n",
    "\n",
    "        :ivar inputNeuronen: Eine Liste von Input-Neuronen.\n",
    "        :ivar hiddenneuronen: Eine Liste von Listen, die die versteckten Neuronen für jede Schicht enthält.\n",
    "        :ivar outputneuronen: Eine Liste von Output-Neuronen.\n",
    "        :ivar gewichtzahl: Die Gesamtanzahl der Gewichte im Netzwerk.\n",
    "    \"\"\"\n",
    "    inputNeuronen: list[inputneuron] = []\n",
    "    hiddenneuronen: list[list[hiddenneuron]] = []\n",
    "    outputneuronen: list[hiddenneuron] = []\n",
    "    gewichtzahl: int\n",
    "\n",
    "    def __init__(self):\n",
    "        \"\"\"\n",
    "            Initialisiert ein neuronales Netzwerk.\n",
    "        \"\"\"\n",
    "        pass\n",
    "\n",
    "    def createInputNeuron(self) -> \"inputneuron\":\n",
    "        \"\"\"\n",
    "            Erstellt ein Input-Neuron und fügt es zur Liste der Input-Neuronen hinzu.\n",
    "\n",
    "            :return: Das erstellte Input-Neuron.\n",
    "        \"\"\"\n",
    "        i1 = inputneuron()\n",
    "        self.inputNeuronen.append(i1)\n",
    "        return i1\n",
    "\n",
    "    def createOutputNeuron(self) -> \"hiddenneuron\":\n",
    "        \"\"\"\n",
    "            Erstellt ein Output-Neuron und fügt es zur Liste der Output-Neuronen hinzu.\n",
    "\n",
    "            :return: Das erstellte Output-Neuron.\n",
    "        \"\"\"\n",
    "        o1 = hiddenneuron()\n",
    "        self.outputneuronen.append(o1)\n",
    "        return o1\n",
    "\n",
    "    def createHiddenNeuron(self, Neuronenanzahl: int, layer: int = 1) -> None:\n",
    "        \"\"\"\n",
    "            Erstellt eine Schicht von versteckten Neuronen und fügt sie zur Liste der versteckten Neuronen hinzu.\n",
    "\n",
    "            :param Neuronenanzahl: Die Anzahl der versteckten Neuronen in der Schicht.\n",
    "            :param layer: Die Schichtnummer. Standardmäßig ist es die erste Schicht (layer=1).\n",
    "        \"\"\"\n",
    "        for i in range(layer):\n",
    "            x: list[hiddenneuron] = []\n",
    "\n",
    "            for n in range(Neuronenanzahl):\n",
    "                h1 = hiddenneuron()\n",
    "                x.append(h1)\n",
    "\n",
    "            self.hiddenneuronen.append(x)\n",
    "        return None\n",
    "\n",
    "    def calcGewichtAnzahl(self) -> int:\n",
    "        \"\"\"\n",
    "            Berechnet die Gesamtanzahl der Gewichte im neuronalen Netzwerk.\n",
    "\n",
    "            :return: Die Gesamtanzahl der Gewichte im Netzwerk.\n",
    "        \"\"\"\n",
    "        calcgewichte = 0\n",
    "        gsize = [len(self.inputNeuronen)]\n",
    "\n",
    "        for c in self.hiddenneuronen:\n",
    "            gsize.append(len(c))\n",
    "        gsize.append(len(self.outputneuronen))\n",
    "\n",
    "        for i in range(len(gsize)):\n",
    "            if i+1 == len(gsize):\n",
    "                break\n",
    "            calcgewichte += gsize[i]*gsize[i+1]\n",
    "\n",
    "        self.gewichtzahl = calcgewichte\n",
    "        return self.gewichtzahl\n",
    "\n",
    "    def createFullMesh(self, gewichte: list[float]) -> None:\n",
    "        \"\"\"\n",
    "            Erstellt ein vollständiges Netzwerk mit den gegebenen Gewichten.\n",
    "\n",
    "            :param gewichte: Eine Liste von Gewichten für alle Verbindungen im Netzwerk.\n",
    "        \"\"\"\n",
    "\n",
    "        if len(self.inputNeuronen) == 0 or len(self.hiddenneuronen) == 0 or len(self.outputneuronen) == 0:\n",
    "            raise NotImplemented(\"Das Netzwerk ist nicht vollständig initialisiert.\")\n",
    "\n",
    "        if self.calcGewichtAnzahl() != len(gewichte):\n",
    "            raise NotImplemented(\"Die Anzahl der Gewichte stimmt nicht mit der erwarteten Anzahl überein.\")\n",
    "\n",
    "\n",
    "        index = 0\n",
    "        for o1 in self.outputneuronen:\n",
    "            for hlast in self.hiddenneuronen[len(self.hiddenneuronen)-1]:\n",
    "                o1.addConnection(Connection(hlast, gewichte[index]))\n",
    "                index += 1\n",
    "\n",
    "        if len(self.hiddenneuronen)>1:\n",
    "            index = self.verkettungHiddens(gewichte, index, len(self.hiddenneuronen)-1, len(self.hiddenneuronen)-2)\n",
    "\n",
    "        for h1 in self.hiddenneuronen[0]:\n",
    "            for i1 in self.inputNeuronen:\n",
    "                h1.addConnection(Connection(i1, gewichte[index]))\n",
    "                index += 1\n",
    "\n",
    "    def verkettungHiddens(self, gewichte: list[float], index: int, index1: int, index2: int) -> int:\n",
    "        \"\"\"\n",
    "            Verkettet die versteckten Neuronen in den Schichten.\n",
    "\n",
    "            :param gewichte: Eine Liste von Gewichten für alle Verbindungen im Netzwerk.\n",
    "            :param index: Der aktuelle Index in der Liste der Gewichte.\n",
    "            :param index1: Der Index der ersten Schicht von Neuronen.\n",
    "            :param index2: Der Index der zweiten Schicht von Neuronen.\n",
    "            :return: Der aktualisierte Index in der Liste der Gewichte.\n",
    "        \"\"\"\n",
    "        if index1 == 0:\n",
    "            return index\n",
    "\n",
    "        for h2 in self.hiddenneuronen[index1]:\n",
    "            for h1 in self.hiddenneuronen[index2]:\n",
    "                h2.addConnection(Connection(h1, gewichte[index]))\n",
    "                index += 1\n",
    "\n",
    "        return self.verkettungHiddens(gewichte, index, index1-1, index2-1)\n"
   ]
  }
 ],
 "metadata": {
  "kernelspec": {
   "display_name": "Python 3 (ipykernel)",
   "language": "python",
   "name": "python3"
  },
  "language_info": {
   "codemirror_mode": {
    "name": "ipython",
    "version": 3
   },
   "file_extension": ".py",
   "mimetype": "text/x-python",
   "name": "python",
   "nbconvert_exporter": "python",
   "pygments_lexer": "ipython3",
   "version": "3.11.6"
  }
 },
 "nbformat": 4,
 "nbformat_minor": 5
}
