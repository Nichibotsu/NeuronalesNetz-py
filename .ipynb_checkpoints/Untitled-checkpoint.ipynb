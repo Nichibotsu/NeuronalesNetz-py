{
 "cells": [
  {
   "cell_type": "markdown",
   "id": "cd1318c1-d13a-47a5-b449-337fadce4a9e",
   "metadata": {
    "jp-MarkdownHeadingCollapsed": true
   },
   "source": [
    "# Main"
   ]
  },
  {
   "cell_type": "code",
   "execution_count": 1,
   "id": "035f6c18-6b03-4889-9002-d96cb747af17",
   "metadata": {},
   "outputs": [
    {
     "name": "stdout",
     "output_type": "stream",
     "text": [
      "20\n"
     ]
    }
   ],
   "source": [
    "from NN.NeuronalesNetz import neuronalesNetz\n",
    "\n",
    "\n",
    "if __name__ == '__main__':\n",
    "    #Initialisiere ein neuronales Netzwerk\n",
    "    nn=neuronalesNetz()\n",
    "\n",
    "    #Erstelle Input-Neuronen\n",
    "    i1=nn.createInputNeuron()\n",
    "    i2=nn.createInputNeuron()\n",
    "\n",
    "    \"\"\"\n",
    "    Erstelle versteckte Neuronen\n",
    "    :param Neuronenanzahl pro Layer\n",
    "    :param Anzahl der Layer \n",
    "    Default: Layer = 1\n",
    "    \"\"\"\n",
    "    nn.createHiddenNeuron(2,2)\n",
    "    #Erstellt ein Output-Neuron\n",
    "    o1 = nn.createOutputNeuron()\n",
    "\n",
    "    #Setze Werte für die Input-Neuronen\n",
    "    i1.set_Value(2)\n",
    "    i2.set_Value(3)\n",
    "\n",
    "    #Erstelle eine vollständige Verbindung zwischen allen Neuronen\n",
    "    nn.createFullMesh([1,1,1,1,1,1,1,1,1,1])\n",
    "\n",
    "    #Druckt den Wert des Output-Neurons nach der Berechnung\n",
    "    print(o1.get_Value())\n",
    "\n"
   ]
  },
  {
   "cell_type": "markdown",
   "id": "f4c77e45-b84e-42d3-8f60-60034286fb8a",
   "metadata": {},
   "source": [
    "# NeuronalesNetz\n"
   ]
  },
  {
   "cell_type": "markdown",
   "id": "1f8046f9-b36c-407f-b2c4-4253cf125665",
   "metadata": {
    "jp-MarkdownHeadingCollapsed": true
   },
   "source": [
    "## kompletter SourceCode"
   ]
  },
  {
   "cell_type": "code",
   "execution_count": 2,
   "id": "f6d6e17f-7d8b-4066-a99a-81bb2bb146f9",
   "metadata": {},
   "outputs": [],
   "source": [
    "from NN.HiddenNeuron import hiddenneuron\n",
    "from NN.InputNeuron import inputneuron\n",
    "from NN.Connections import Connection\n",
    "\n",
    "\n",
    "class neuronalesNetz:\n",
    "    \"\"\"\n",
    "        Eine Klasse, die ein neuronales Netzwerk repräsentiert.\n",
    "\n",
    "        :ivar inputNeuronen: Eine Liste von Input-Neuronen.\n",
    "        :ivar hiddenneuronen: Eine Liste von Listen, die die versteckten Neuronen für jede Schicht enthält.\n",
    "        :ivar outputneuronen: Eine Liste von Output-Neuronen.\n",
    "        :ivar gewichtzahl: Die Gesamtanzahl der Gewichte im Netzwerk.\n",
    "    \"\"\"\n",
    "    inputNeuronen: list[inputneuron] = []\n",
    "    hiddenneuronen: list[list[hiddenneuron]] = []\n",
    "    outputneuronen: list[hiddenneuron] = []\n",
    "    gewichtzahl: int\n",
    "\n",
    "    def __init__(self):\n",
    "        \"\"\"\n",
    "            Initialisiert ein neuronales Netzwerk.\n",
    "        \"\"\"\n",
    "        pass\n",
    "\n",
    "    def createInputNeuron(self) -> \"inputneuron\":\n",
    "        \"\"\"\n",
    "            Erstellt ein Input-Neuron und fügt es zur Liste der Input-Neuronen hinzu.\n",
    "\n",
    "            :return: Das erstellte Input-Neuron.\n",
    "        \"\"\"\n",
    "        i1 = inputneuron()\n",
    "        self.inputNeuronen.append(i1)\n",
    "        return i1\n",
    "\n",
    "    def createOutputNeuron(self) -> \"hiddenneuron\":\n",
    "        \"\"\"\n",
    "            Erstellt ein Output-Neuron und fügt es zur Liste der Output-Neuronen hinzu.\n",
    "\n",
    "            :return: Das erstellte Output-Neuron.\n",
    "        \"\"\"\n",
    "        o1 = hiddenneuron()\n",
    "        self.outputneuronen.append(o1)\n",
    "        return o1\n",
    "\n",
    "    def createHiddenNeuron(self, Neuronenanzahl: int, layer: int = 1) -> None:\n",
    "        \"\"\"\n",
    "            Erstellt eine Schicht von versteckten Neuronen und fügt sie zur Liste der versteckten Neuronen hinzu.\n",
    "\n",
    "            :param Neuronenanzahl: Die Anzahl der versteckten Neuronen in der Schicht.\n",
    "            :param layer: Die Schichtnummer. Standardmäßig ist es die erste Schicht (layer=1).\n",
    "        \"\"\"\n",
    "        for i in range(layer):\n",
    "            x: list[hiddenneuron] = []\n",
    "\n",
    "            for n in range(Neuronenanzahl):\n",
    "                h1 = hiddenneuron()\n",
    "                x.append(h1)\n",
    "\n",
    "            self.hiddenneuronen.append(x)\n",
    "        return None\n",
    "\n",
    "    def calcGewichtAnzahl(self) -> int:\n",
    "        \"\"\"\n",
    "            Berechnet die Gesamtanzahl der Gewichte im neuronalen Netzwerk.\n",
    "\n",
    "            :return: Die Gesamtanzahl der Gewichte im Netzwerk.\n",
    "        \"\"\"\n",
    "        calcgewichte = 0\n",
    "        gsize = [len(self.inputNeuronen)]\n",
    "\n",
    "        for c in self.hiddenneuronen:\n",
    "            gsize.append(len(c))\n",
    "        gsize.append(len(self.outputneuronen))\n",
    "\n",
    "        for i in range(len(gsize)):\n",
    "            if i+1 == len(gsize):\n",
    "                break\n",
    "            calcgewichte += gsize[i]*gsize[i+1]\n",
    "\n",
    "        self.gewichtzahl = calcgewichte\n",
    "        return self.gewichtzahl\n",
    "\n",
    "    def createFullMesh(self, gewichte: list[float]) -> None:\n",
    "        \"\"\"\n",
    "            Erstellt ein vollständiges Netzwerk mit den gegebenen Gewichten.\n",
    "\n",
    "            :param gewichte: Eine Liste von Gewichten für alle Verbindungen im Netzwerk.\n",
    "        \"\"\"\n",
    "\n",
    "        if len(self.inputNeuronen) == 0 or len(self.hiddenneuronen) == 0 or len(self.outputneuronen) == 0:\n",
    "            raise NotImplemented(\"Das Netzwerk ist nicht vollständig initialisiert.\")\n",
    "\n",
    "        if self.calcGewichtAnzahl() != len(gewichte):\n",
    "            raise NotImplemented(\"Die Anzahl der Gewichte stimmt nicht mit der erwarteten Anzahl überein.\")\n",
    "\n",
    "\n",
    "        index = 0\n",
    "        for o1 in self.outputneuronen:\n",
    "            for hlast in self.hiddenneuronen[len(self.hiddenneuronen)-1]:\n",
    "                o1.addConnection(Connection(hlast, gewichte[index]))\n",
    "                index += 1\n",
    "\n",
    "        if len(self.hiddenneuronen)>1:\n",
    "            index = self.verkettungHiddens(gewichte, index, len(self.hiddenneuronen)-1, len(self.hiddenneuronen)-2)\n",
    "\n",
    "        for h1 in self.hiddenneuronen[0]:\n",
    "            for i1 in self.inputNeuronen:\n",
    "                h1.addConnection(Connection(i1, gewichte[index]))\n",
    "                index += 1\n",
    "\n",
    "    def verkettungHiddens(self, gewichte: list[float], index: int, index1: int, index2: int) -> int:\n",
    "        \"\"\"\n",
    "            Verkettet die versteckten Neuronen in den Schichten.\n",
    "\n",
    "            :param gewichte: Eine Liste von Gewichten für alle Verbindungen im Netzwerk.\n",
    "            :param index: Der aktuelle Index in der Liste der Gewichte.\n",
    "            :param index1: Der Index der ersten Schicht von Neuronen.\n",
    "            :param index2: Der Index der zweiten Schicht von Neuronen.\n",
    "            :return: Der aktualisierte Index in der Liste der Gewichte.\n",
    "        \"\"\"\n",
    "        if index1 == 0:\n",
    "            return index\n",
    "\n",
    "        for h2 in self.hiddenneuronen[index1]:\n",
    "            for h1 in self.hiddenneuronen[index2]:\n",
    "                h2.addConnection(Connection(h1, gewichte[index]))\n",
    "                index += 1\n",
    "\n",
    "        return self.verkettungHiddens(gewichte, index, index1-1, index2-1)\n"
   ]
  },
  {
   "cell_type": "markdown",
   "id": "04be5389-5093-482e-9266-cca0a532b250",
   "metadata": {},
   "source": [
    "## Methoden und Variablen"
   ]
  },
  {
   "cell_type": "markdown",
   "id": "4e30dbc5-fc27-475b-b05e-1d1cb3097d12",
   "metadata": {},
   "source": [
    "### createInputNeuron(self)->\"inputneuron\"\n",
    "\n",
    "Erstellt ein Input-Neuron und fügt es zur Liste der Input-Neuronen hinzu.Das erstellte Neuron wird zurückgegeben um den Value festzulegen"
   ]
  },
  {
   "cell_type": "code",
   "execution_count": 3,
   "id": "77e4b7fa-f5e9-49b1-8cd6-a8f5f87a887d",
   "metadata": {},
   "outputs": [],
   "source": [
    "def createInputNeuron(self) -> \"inputneuron\":\n",
    "        i1 = inputneuron()\n",
    "        self.inputNeuronen.append(i1)\n",
    "        return i1"
   ]
  },
  {
   "cell_type": "markdown",
   "id": "0039d81a-888e-44f5-a91b-54433f6f0357",
   "metadata": {},
   "source": [
    "### createOutputNeuron(self)->\"hiddenneuron\"\n",
    "Erstellt ein Hiddenneuron und fügt es zur Liste der Output-Neuronen hinzu.Das erstellte Neuron wird zurückgegeben um auf den Endwert zu zugreifens \n"
   ]
  },
  {
   "cell_type": "code",
   "execution_count": 7,
   "id": "a6e4f585-7fe7-4f35-a8eb-c7909107e143",
   "metadata": {},
   "outputs": [],
   "source": [
    "def createOutputNeuron(self) -> \"hiddenneuron\":\n",
    "        o1 = hiddenneuron()\n",
    "        self.outputneuronen.append(o1)\n",
    "        return o1"
   ]
  },
  {
   "cell_type": "markdown",
   "id": "593fbf88-52a6-4fd5-8613-6cdda7ffc051",
   "metadata": {},
   "source": [
    "### createHiddenNeuron(self,Neuronenanzahl:int, layer:int = 1)-> None\n",
    "\n",
    "Erstellt eine Schicht von versteckten Neuronen und fügt sie zur Liste der versteckten Neuronen hinzu."
   ]
  },
  {
   "cell_type": "code",
   "execution_count": 8,
   "id": "33c1f339-8c30-42ca-926f-0327c8c7a90e",
   "metadata": {},
   "outputs": [],
   "source": [
    "    def createHiddenNeuron(self, Neuronenanzahl: int, layer: int = 1) -> None:\n",
    "        \n",
    "        for i in range(layer):\n",
    "            x: list[hiddenneuron] = []\n",
    "\n",
    "            for n in range(Neuronenanzahl):\n",
    "                h1 = hiddenneuron()\n",
    "                x.append(h1)\n",
    "\n",
    "            self.hiddenneuronen.append(x)\n",
    "        return None"
   ]
  },
  {
   "cell_type": "markdown",
   "id": "70c2f8b0-406e-4c7d-8f94-31079c5cdf40",
   "metadata": {},
   "source": [
    "### calcGewichtAnzahl(self)->int\n",
    "Berechnet die Gesamtanzahl der Gewichte im neuronalen Netz.\n",
    "Wichtig um das NN vollständig zu definieren\n",
    "\n",
    "Berechung: Layer[0]*Layer[1]+Layer[1]*Layer[2] ... +Layer[n-1]*Layer[n]"
   ]
  },
  {
   "cell_type": "code",
   "execution_count": null,
   "id": "64edf9b5-e556-43aa-a6bc-3c95d65a309a",
   "metadata": {},
   "outputs": [],
   "source": [
    "    def calcGewichtAnzahl(self) -> int:\n",
    "        calcgewichte = 0\n",
    "        gsize = [len(self.inputNeuronen)]\n",
    "\n",
    "        for c in self.hiddenneuronen:\n",
    "            gsize.append(len(c))\n",
    "        gsize.append(len(self.outputneuronen))\n",
    "\n",
    "        for i in range(len(gsize)):\n",
    "            if i+1 == len(gsize):\n",
    "                break\n",
    "            calcgewichte += gsize[i]*gsize[i+1]\n",
    "\n",
    "        self.gewichtzahl = calcgewichte\n",
    "        return self.gewichtzahl"
   ]
  },
  {
   "cell_type": "markdown",
   "id": "24c20d30-2638-4d87-8de8-a667f6e8e214",
   "metadata": {
    "jp-MarkdownHeadingCollapsed": true
   },
   "source": [
    "# Klassen / Bauteile"
   ]
  },
  {
   "cell_type": "markdown",
   "id": "84f093bc-3278-4fea-acef-432c5caaad04",
   "metadata": {
    "jp-MarkdownHeadingCollapsed": true
   },
   "source": [
    "## Neuronen\n",
    "Unsere abstrakte Klasse wurde für die Gruppierung von InputNeuronen und Den HiddenNeuronen genutzt"
   ]
  },
  {
   "cell_type": "code",
   "execution_count": null,
   "id": "499b7374-03a2-4dc2-aee5-3a687ba4752d",
   "metadata": {},
   "outputs": [],
   "source": [
    "class neuron:\n",
    "    \"\"\"\n",
    "        Eine abstrakte Basisklasse für Neuronen in einem neuronalen Netzwerk.\n",
    "\n",
    "        Alle Unterklassen müssen die Methode 'get_Value' implementieren.\n",
    "\n",
    "        meth get_Value: Eine abstrakte Methode, die den Wert des Neurons zurückgeben soll.\n",
    "    \"\"\"\n",
    "\n",
    "    def get_Value(self) -> float:\n",
    "        pass"
   ]
  },
  {
   "cell_type": "markdown",
   "id": "5b5feb85-fe9b-4866-9ff5-bb388c0b1559",
   "metadata": {
    "jp-MarkdownHeadingCollapsed": true
   },
   "source": [
    "### InputNeuron"
   ]
  },
  {
   "cell_type": "code",
   "execution_count": null,
   "id": "111d0fea-32e1-4f47-add0-28ae5b501930",
   "metadata": {},
   "outputs": [],
   "source": [
    "from NN.Neuron import neuron\n",
    "\n",
    "\n",
    "class inputneuron(neuron):\n",
    "    \"\"\"\n",
    "        Klasse für ein Input-Neuron in einem neuronalen Netzwerk.\n",
    "\n",
    "        Vererbung: Die Klasse erbt von der allgemeinen Neuron-Klasse.\n",
    "\n",
    "        :ivar value: Der aktuelle Wert des Input-Neurons.\n",
    "    \"\"\"\n",
    "    def __init__(self):\n",
    "        \"\"\"\n",
    "            Initialisiert ein Input-Neuron mit einem Wert von 0.\n",
    "        \"\"\"\n",
    "        self.value = 0\n",
    "\n",
    "    def get_Value(self) -> float:\n",
    "        \"\"\"\n",
    "            Gibt den aktuellen Wert des Input-Neurons zurück.\n",
    "\n",
    "            :return: Der aktuelle Wert des Input-Neurons.\n",
    "        \"\"\"\n",
    "        return self.value\n",
    "\n",
    "    def set_Value(self, value) -> None:\n",
    "        \"\"\"\n",
    "            Setzt den Wert des Input-Neurons auf den angegebenen Wert.\n",
    "            :param value: Der Wert, auf den das Input-Neuron gesetzt werden soll.\n",
    "        \"\"\"\n",
    "        self.value = value\n",
    "        return None\n"
   ]
  },
  {
   "cell_type": "markdown",
   "id": "301fb2bc-c963-4f75-9396-98580be7c352",
   "metadata": {
    "jp-MarkdownHeadingCollapsed": true
   },
   "source": [
    "### HiddenNeuron"
   ]
  },
  {
   "cell_type": "code",
   "execution_count": null,
   "id": "edab92b9-5c77-4d7b-953a-d071f183c8c0",
   "metadata": {},
   "outputs": [],
   "source": [
    "from NN.Neuron import neuron\n",
    "from NN.Connections import Connection\n",
    "from NN.Aktivierung import *\n",
    "\n",
    "\n",
    "class hiddenneuron(neuron):\n",
    "    \"\"\"\n",
    "        Klasse für ein verstecktes Neuron in einem neuronalen Netzwerk.\n",
    "\n",
    "        Vererbung: Die Klasse erbt von der allgemeinen Neuron-Klasse.\n",
    "\n",
    "        :ivar Connections: Eine Liste von Verbindungen zu anderen Neuronen.\n",
    "        :ivar value: Der aktuelle Wert des Neurons nach der Aktivierungsfunktion.\n",
    "    \"\"\"\n",
    "\n",
    "    def __init__(self):\n",
    "        \"\"\"\n",
    "            Initialisiert ein verstecktes Neuron mit einer leeren Liste von Verbindungen und einem Wert von 0.\n",
    "        \"\"\"\n",
    "        self.Connections: list[Connection] = []\n",
    "        self.value: float = 0\n",
    "\n",
    "    def get_Value(self) -> float:\n",
    "        \"\"\"\n",
    "            Berechnet den Wert des Neurons nach der Aktivierungsfunktion (hier ReLU).\n",
    "\n",
    "            :return: Der aktuelle Wert des Neurons.\n",
    "        \"\"\"\n",
    "        value_sum = 0\n",
    "        for c in self.Connections:\n",
    "            value_sum += c.getValue()\n",
    "\n",
    "        self.value = ReLu(value_sum)\n",
    "        return self.value\n",
    "\n",
    "    def addConnection(self, c: Connection) -> None:\n",
    "        \"\"\"\n",
    "            Fügt eine Verbindung zu anderen Neuronen hinzu.\n",
    "\n",
    "            :param c: Die hinzuzufügende Verbindung.\n",
    "        \"\"\"\n",
    "        self.Connections.append(c)\n",
    "        return None\n"
   ]
  },
  {
   "cell_type": "markdown",
   "id": "b3cdfbf4-1290-49bd-85e6-688e15351ccf",
   "metadata": {},
   "source": [
    "## Connections\n",
    "Eine Verbindung zwischen zwei Neuronen mit einem bestimmten Gewicht."
   ]
  },
  {
   "cell_type": "code",
   "execution_count": null,
   "id": "1b7f1f1d-2a79-405a-a6e1-33d728b9ed73",
   "metadata": {},
   "outputs": [],
   "source": [
    "from NN.Neuron import neuron\n",
    "\n",
    "\n",
    "class Connection:\n",
    "    \"\"\"\n",
    "        Eine Verbindung zwischen zwei Neuronen mit einem bestimmten Gewicht.\n",
    "\n",
    "        :param neuron1: Das verknüpfte Neuron.\n",
    "        :param gewicht: Das Gewicht der Verbindung.\n",
    "    \"\"\"\n",
    "\n",
    "    def __init__(self, neuron1: \"neuron\", gewicht: float):\n",
    "        \"\"\"\n",
    "                Initialisiert eine Verbindung mit einem Neuron und einem Gewicht.\n",
    "\n",
    "                :param neuron1: Das verknüpfte Neuron.\n",
    "                :param gewicht: Das Gewicht der Verbindung.\n",
    "        \"\"\"\n",
    "\n",
    "        self.gewicht = gewicht\n",
    "        self.neuron = neuron1\n",
    "\n",
    "    def getValue(self) -> float:\n",
    "        \"\"\"\n",
    "                Berechnet den Wert der Verbindung, indem der Wert des verknüpften Neurons mit dem Gewicht multipliziert wird.\n",
    "\n",
    "                :return: Der berechnete Wert der Verbindung.\n",
    "        \"\"\"\n",
    "        return self.neuron.get_Value() * self.gewicht\n"
   ]
  },
  {
   "cell_type": "code",
   "execution_count": null,
   "id": "2bb12e1d-7d60-4c4a-b23e-3d9e4bd5ea41",
   "metadata": {},
   "outputs": [],
   "source": []
  }
 ],
 "metadata": {
  "kernelspec": {
   "display_name": "Python 3 (ipykernel)",
   "language": "python",
   "name": "python3"
  },
  "language_info": {
   "codemirror_mode": {
    "name": "ipython",
    "version": 3
   },
   "file_extension": ".py",
   "mimetype": "text/x-python",
   "name": "python",
   "nbconvert_exporter": "python",
   "pygments_lexer": "ipython3",
   "version": "3.11.6"
  }
 },
 "nbformat": 4,
 "nbformat_minor": 5
}
